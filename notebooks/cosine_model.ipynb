{
 "cells": [
  {
   "cell_type": "markdown",
   "metadata": {},
   "source": [
    "## **Imports**"
   ]
  },
  {
   "cell_type": "code",
   "execution_count": 1,
   "metadata": {},
   "outputs": [],
   "source": [
    "\"\"\" Import Statements \"\"\"\n",
    "\n",
    "# Classics\n",
    "import os\n",
    "import pandas as pd\n",
    "import numpy as np\n",
    "import seaborn as sns\n",
    "import matplotlib.pyplot as plt\n",
    "import squarify\n",
    "\n",
    "import re\n",
    "import spacy\n",
    "from spacy.tokenizer import Tokenizer\n",
    "from collections import Counter\n",
    "\n",
    "from sklearn.feature_extraction.text import CountVectorizer, TfidfVectorizer\n",
    "from sklearn.metrics.pairwise import cosine_similarity\n",
    "from sklearn.neighbors import NearestNeighbors"
   ]
  },
  {
   "cell_type": "code",
   "execution_count": 2,
   "metadata": {},
   "outputs": [],
   "source": [
    "df = pd.read_csv('../data/cannabis.csv')\n",
    "\n",
    "#change from combined_cannabis.csv to cannabis.csv"
   ]
  },
  {
   "cell_type": "code",
   "execution_count": 3,
   "metadata": {
    "tags": []
   },
   "outputs": [
    {
     "output_type": "stream",
     "name": "stdout",
     "text": "Shape: (2155, 8)\n"
    },
    {
     "output_type": "execute_result",
     "data": {
      "text/plain": "   Index             Name    Type  Rating  \\\n0      0  Kelly Hill Gold  Indica     5.0   \n1      1       Spyder Mon  Hybrid     5.0   \n2      2            Mochi  Hybrid     5.0   \n3      3    Molokai Purpz  Indica     5.0   \n4      4         Monolith  Indica     5.0   \n\n                                      Effects  \\\n0  Happy,Energetic,Euphoric,Talkative,Aroused   \n1     Uplifted,Creative,Focused,Happy,Relaxed   \n2          Sleepy,Happy,Hungry,Relaxed,Tingly   \n3    Aroused,Creative,Euphoric,Relaxed,Sleepy   \n4      Relaxed,Sleepy,Tingly,Euphoric,Focused   \n\n                                         Description                Flavors  \\\n0  Cultivated  by Joseph Arthur Botanicals in Col...   Pepper,Earthy,Coffee   \n1  Spyder Mon is an uplifting CBD strain with a g...    Citrus,Earthy,Sweet   \n2  Mochi by Sherbinski is another strain that lea...  Pungent,Minty,Flowery   \n3  Moloka'i Purpz is a luscious Hawaiian landrace...      Berry,Grape,Sweet   \n4  Monolith is an indica-dominant strain with Afg...    Pungent,Earthy,Pine   \n\n                 Nearest  \n0   992,897,439,184,1877  \n1   218,157,1627,223,742  \n2    614,457,208,705,130  \n3   1478,562,1063,50,390  \n4  1397,862,1094,214,141  ",
      "text/html": "<div>\n<style scoped>\n    .dataframe tbody tr th:only-of-type {\n        vertical-align: middle;\n    }\n\n    .dataframe tbody tr th {\n        vertical-align: top;\n    }\n\n    .dataframe thead th {\n        text-align: right;\n    }\n</style>\n<table border=\"1\" class=\"dataframe\">\n  <thead>\n    <tr style=\"text-align: right;\">\n      <th></th>\n      <th>Index</th>\n      <th>Name</th>\n      <th>Type</th>\n      <th>Rating</th>\n      <th>Effects</th>\n      <th>Description</th>\n      <th>Flavors</th>\n      <th>Nearest</th>\n    </tr>\n  </thead>\n  <tbody>\n    <tr>\n      <th>0</th>\n      <td>0</td>\n      <td>Kelly Hill Gold</td>\n      <td>Indica</td>\n      <td>5.0</td>\n      <td>Happy,Energetic,Euphoric,Talkative,Aroused</td>\n      <td>Cultivated  by Joseph Arthur Botanicals in Col...</td>\n      <td>Pepper,Earthy,Coffee</td>\n      <td>992,897,439,184,1877</td>\n    </tr>\n    <tr>\n      <th>1</th>\n      <td>1</td>\n      <td>Spyder Mon</td>\n      <td>Hybrid</td>\n      <td>5.0</td>\n      <td>Uplifted,Creative,Focused,Happy,Relaxed</td>\n      <td>Spyder Mon is an uplifting CBD strain with a g...</td>\n      <td>Citrus,Earthy,Sweet</td>\n      <td>218,157,1627,223,742</td>\n    </tr>\n    <tr>\n      <th>2</th>\n      <td>2</td>\n      <td>Mochi</td>\n      <td>Hybrid</td>\n      <td>5.0</td>\n      <td>Sleepy,Happy,Hungry,Relaxed,Tingly</td>\n      <td>Mochi by Sherbinski is another strain that lea...</td>\n      <td>Pungent,Minty,Flowery</td>\n      <td>614,457,208,705,130</td>\n    </tr>\n    <tr>\n      <th>3</th>\n      <td>3</td>\n      <td>Molokai Purpz</td>\n      <td>Indica</td>\n      <td>5.0</td>\n      <td>Aroused,Creative,Euphoric,Relaxed,Sleepy</td>\n      <td>Moloka'i Purpz is a luscious Hawaiian landrace...</td>\n      <td>Berry,Grape,Sweet</td>\n      <td>1478,562,1063,50,390</td>\n    </tr>\n    <tr>\n      <th>4</th>\n      <td>4</td>\n      <td>Monolith</td>\n      <td>Indica</td>\n      <td>5.0</td>\n      <td>Relaxed,Sleepy,Tingly,Euphoric,Focused</td>\n      <td>Monolith is an indica-dominant strain with Afg...</td>\n      <td>Pungent,Earthy,Pine</td>\n      <td>1397,862,1094,214,141</td>\n    </tr>\n  </tbody>\n</table>\n</div>"
     },
     "metadata": {},
     "execution_count": 3
    }
   ],
   "source": [
    "print('Shape:', df.shape)\n",
    "df.head()"
   ]
  },
  {
   "cell_type": "markdown",
   "metadata": {},
   "source": [
    "### spaCy s"
   ]
  },
  {
   "cell_type": "code",
   "execution_count": 4,
   "metadata": {},
   "outputs": [],
   "source": [
    "nlp = spacy.load(\"en_core_web_md\")"
   ]
  },
  {
   "cell_type": "code",
   "execution_count": 5,
   "metadata": {},
   "outputs": [],
   "source": [
    "STOP_WORDS = nlp.Defaults.stop_words.union({\"$\", '-', '', ' ',\n",
    "                                            'bred','breed', 'breeds','call', 'calls',\n",
    "                                            'combine', 'combines','consumer', 'contains','containing',\n",
    "                                            \"don't\", 'effect', 'effects','especially','explanations',\n",
    "                                            'flavor', 'flavors','flower','give', 'gives','got',  'high',\n",
    "                                            'i', \"i'm\", \"i've\",'including','it.', \"it's\",\n",
    "                                            'like', 'match', 'matches','making',\n",
    "                                            'offer', 'offers','pack', 'packs','price', 'probably',\n",
    "                                            'produce', 'produces', 'really',\n",
    "                                            'refers', 'report', 'reports', \"'s\", 's',\n",
    "                                            'seed', 'seeds','showing',\n",
    "                                            'smell','start', 'started', 'stem', 'stems',\n",
    "                                            'strain', 'strains','supposedly',\n",
    "                                            'technique', 'techniques','tend', 'tends',\n",
    "                                            'unavailable', 'unkown', 'user', 'users', 'utlizing',\n",
    "                                            'weed', 'week', None})"
   ]
  },
  {
   "cell_type": "code",
   "execution_count": 6,
   "metadata": {},
   "outputs": [],
   "source": [
    "def tokenize(text):\n",
    "  doc = nlp(text) #casting as text\n",
    "  return [token.lemma_.strip() for token in doc if not token.is_stop and not token.is_punct]"
   ]
  },
  {
   "cell_type": "markdown",
   "metadata": {},
   "source": [
    "# ML Model"
   ]
  },
  {
   "cell_type": "markdown",
   "metadata": {},
   "source": [
    "## Vectorization"
   ]
  },
  {
   "cell_type": "markdown",
   "metadata": {},
   "source": [
    "### TFIDF"
   ]
  },
  {
   "cell_type": "code",
   "execution_count": 7,
   "metadata": {},
   "outputs": [
    {
     "output_type": "execute_result",
     "data": {
      "text/plain": "     1   10  10 11  10 11 week  10 week  10 week flower  10 week produce  100  \\\n0  0.0  0.0    0.0         0.0      0.0             0.0              0.0  0.0   \n1  0.0  0.0    0.0         0.0      0.0             0.0              0.0  0.0   \n2  0.0  0.0    0.0         0.0      0.0             0.0              0.0  0.0   \n3  0.0  0.0    0.0         0.0      0.0             0.0              0.0  0.0   \n4  0.0  0.0    0.0         0.0      0.0             0.0              0.0  0.0   \n\n    11  11 week  ...  yield indoor  yield plant  yield potency  yield thc  \\\n0  0.0      0.0  ...           0.0          0.0            0.0        0.0   \n1  0.0      0.0  ...           0.0          0.0            0.0        0.0   \n2  0.0      0.0  ...           0.0          0.0            0.0        0.0   \n3  0.0      0.0  ...           0.0          0.0            0.0        0.0   \n4  0.0      0.0  ...           0.0          0.0            0.0        0.0   \n\n   yields.happy  yoda  zest  zesty  zesty lemon  zombie  \n0           0.0   0.0   0.0    0.0          0.0     0.0  \n1           0.0   0.0   0.0    0.0          0.0     0.0  \n2           0.0   0.0   0.0    0.0          0.0     0.0  \n3           0.0   0.0   0.0    0.0          0.0     0.0  \n4           0.0   0.0   0.0    0.0          0.0     0.0  \n\n[5 rows x 5000 columns]",
      "text/html": "<div>\n<style scoped>\n    .dataframe tbody tr th:only-of-type {\n        vertical-align: middle;\n    }\n\n    .dataframe tbody tr th {\n        vertical-align: top;\n    }\n\n    .dataframe thead th {\n        text-align: right;\n    }\n</style>\n<table border=\"1\" class=\"dataframe\">\n  <thead>\n    <tr style=\"text-align: right;\">\n      <th></th>\n      <th>1</th>\n      <th>10</th>\n      <th>10 11</th>\n      <th>10 11 week</th>\n      <th>10 week</th>\n      <th>10 week flower</th>\n      <th>10 week produce</th>\n      <th>100</th>\n      <th>11</th>\n      <th>11 week</th>\n      <th>...</th>\n      <th>yield indoor</th>\n      <th>yield plant</th>\n      <th>yield potency</th>\n      <th>yield thc</th>\n      <th>yields.happy</th>\n      <th>yoda</th>\n      <th>zest</th>\n      <th>zesty</th>\n      <th>zesty lemon</th>\n      <th>zombie</th>\n    </tr>\n  </thead>\n  <tbody>\n    <tr>\n      <th>0</th>\n      <td>0.0</td>\n      <td>0.0</td>\n      <td>0.0</td>\n      <td>0.0</td>\n      <td>0.0</td>\n      <td>0.0</td>\n      <td>0.0</td>\n      <td>0.0</td>\n      <td>0.0</td>\n      <td>0.0</td>\n      <td>...</td>\n      <td>0.0</td>\n      <td>0.0</td>\n      <td>0.0</td>\n      <td>0.0</td>\n      <td>0.0</td>\n      <td>0.0</td>\n      <td>0.0</td>\n      <td>0.0</td>\n      <td>0.0</td>\n      <td>0.0</td>\n    </tr>\n    <tr>\n      <th>1</th>\n      <td>0.0</td>\n      <td>0.0</td>\n      <td>0.0</td>\n      <td>0.0</td>\n      <td>0.0</td>\n      <td>0.0</td>\n      <td>0.0</td>\n      <td>0.0</td>\n      <td>0.0</td>\n      <td>0.0</td>\n      <td>...</td>\n      <td>0.0</td>\n      <td>0.0</td>\n      <td>0.0</td>\n      <td>0.0</td>\n      <td>0.0</td>\n      <td>0.0</td>\n      <td>0.0</td>\n      <td>0.0</td>\n      <td>0.0</td>\n      <td>0.0</td>\n    </tr>\n    <tr>\n      <th>2</th>\n      <td>0.0</td>\n      <td>0.0</td>\n      <td>0.0</td>\n      <td>0.0</td>\n      <td>0.0</td>\n      <td>0.0</td>\n      <td>0.0</td>\n      <td>0.0</td>\n      <td>0.0</td>\n      <td>0.0</td>\n      <td>...</td>\n      <td>0.0</td>\n      <td>0.0</td>\n      <td>0.0</td>\n      <td>0.0</td>\n      <td>0.0</td>\n      <td>0.0</td>\n      <td>0.0</td>\n      <td>0.0</td>\n      <td>0.0</td>\n      <td>0.0</td>\n    </tr>\n    <tr>\n      <th>3</th>\n      <td>0.0</td>\n      <td>0.0</td>\n      <td>0.0</td>\n      <td>0.0</td>\n      <td>0.0</td>\n      <td>0.0</td>\n      <td>0.0</td>\n      <td>0.0</td>\n      <td>0.0</td>\n      <td>0.0</td>\n      <td>...</td>\n      <td>0.0</td>\n      <td>0.0</td>\n      <td>0.0</td>\n      <td>0.0</td>\n      <td>0.0</td>\n      <td>0.0</td>\n      <td>0.0</td>\n      <td>0.0</td>\n      <td>0.0</td>\n      <td>0.0</td>\n    </tr>\n    <tr>\n      <th>4</th>\n      <td>0.0</td>\n      <td>0.0</td>\n      <td>0.0</td>\n      <td>0.0</td>\n      <td>0.0</td>\n      <td>0.0</td>\n      <td>0.0</td>\n      <td>0.0</td>\n      <td>0.0</td>\n      <td>0.0</td>\n      <td>...</td>\n      <td>0.0</td>\n      <td>0.0</td>\n      <td>0.0</td>\n      <td>0.0</td>\n      <td>0.0</td>\n      <td>0.0</td>\n      <td>0.0</td>\n      <td>0.0</td>\n      <td>0.0</td>\n      <td>0.0</td>\n    </tr>\n  </tbody>\n</table>\n<p>5 rows × 5000 columns</p>\n</div>"
     },
     "metadata": {},
     "execution_count": 7
    }
   ],
   "source": [
    "# Instantiate vectorizer object\n",
    "tfidf = TfidfVectorizer(stop_words='english', \n",
    "                        ngram_range=(1,3),\n",
    "                        max_df=.97,\n",
    "                        min_df=3,\n",
    "                        tokenizer=tokenize,\n",
    "                        max_features = 5000)\n",
    "\n",
    "# Create a vocabulary and get word counts per document\n",
    "dtm = tfidf.fit_transform(df['Type'] + df['Description'] + df['Effects'] + df['Flavors']) # Similiar to fit_predict\n",
    "\n",
    "# Print word counts\n",
    "\n",
    "# Get feature names to use as dataframe column headers\n",
    "dtm = pd.DataFrame(dtm.todense(), columns=tfidf.get_feature_names())\n",
    "\n",
    "# View Feature Matrix as DataFrame\n",
    "dtm.head()"
   ]
  },
  {
   "cell_type": "markdown",
   "metadata": {},
   "source": [
    "## Cosine Similarity Model"
   ]
  },
  {
   "cell_type": "code",
   "execution_count": 31,
   "metadata": {},
   "outputs": [],
   "source": [
    "user_input = ['big buds']"
   ]
  },
  {
   "cell_type": "code",
   "execution_count": 32,
   "metadata": {},
   "outputs": [],
   "source": [
    "user_dtm = pd.DataFrame(tfidf.transform(user_input).todense(), columns=tfidf.get_feature_names())"
   ]
  },
  {
   "cell_type": "code",
   "execution_count": 33,
   "metadata": {},
   "outputs": [],
   "source": [
    "rec_dtm = dtm.append(user_dtm).reset_index(drop=True)"
   ]
  },
  {
   "cell_type": "code",
   "execution_count": 34,
   "metadata": {},
   "outputs": [
    {
     "output_type": "execute_result",
     "data": {
      "text/plain": "        1   10  10 11  10 11 week  10 week  10 week flower  10 week produce  \\\n0     0.0  0.0    0.0         0.0      0.0             0.0              0.0   \n1     0.0  0.0    0.0         0.0      0.0             0.0              0.0   \n2     0.0  0.0    0.0         0.0      0.0             0.0              0.0   \n3     0.0  0.0    0.0         0.0      0.0             0.0              0.0   \n4     0.0  0.0    0.0         0.0      0.0             0.0              0.0   \n...   ...  ...    ...         ...      ...             ...              ...   \n2151  0.0  0.0    0.0         0.0      0.0             0.0              0.0   \n2152  0.0  0.0    0.0         0.0      0.0             0.0              0.0   \n2153  0.0  0.0    0.0         0.0      0.0             0.0              0.0   \n2154  0.0  0.0    0.0         0.0      0.0             0.0              0.0   \n2155  0.0  0.0    0.0         0.0      0.0             0.0              0.0   \n\n      100   11  11 week  ...  yield indoor  yield plant  yield potency  \\\n0     0.0  0.0      0.0  ...           0.0          0.0            0.0   \n1     0.0  0.0      0.0  ...           0.0          0.0            0.0   \n2     0.0  0.0      0.0  ...           0.0          0.0            0.0   \n3     0.0  0.0      0.0  ...           0.0          0.0            0.0   \n4     0.0  0.0      0.0  ...           0.0          0.0            0.0   \n...   ...  ...      ...  ...           ...          ...            ...   \n2151  0.0  0.0      0.0  ...           0.0          0.0            0.0   \n2152  0.0  0.0      0.0  ...           0.0          0.0            0.0   \n2153  0.0  0.0      0.0  ...           0.0          0.0            0.0   \n2154  0.0  0.0      0.0  ...           0.0          0.0            0.0   \n2155  0.0  0.0      0.0  ...           0.0          0.0            0.0   \n\n      yield thc  yields.happy  yoda  zest  zesty  zesty lemon  zombie  \n0           0.0           0.0   0.0   0.0    0.0          0.0     0.0  \n1           0.0           0.0   0.0   0.0    0.0          0.0     0.0  \n2           0.0           0.0   0.0   0.0    0.0          0.0     0.0  \n3           0.0           0.0   0.0   0.0    0.0          0.0     0.0  \n4           0.0           0.0   0.0   0.0    0.0          0.0     0.0  \n...         ...           ...   ...   ...    ...          ...     ...  \n2151        0.0           0.0   0.0   0.0    0.0          0.0     0.0  \n2152        0.0           0.0   0.0   0.0    0.0          0.0     0.0  \n2153        0.0           0.0   0.0   0.0    0.0          0.0     0.0  \n2154        0.0           0.0   0.0   0.0    0.0          0.0     0.0  \n2155        0.0           0.0   0.0   0.0    0.0          0.0     0.0  \n\n[2156 rows x 5000 columns]",
      "text/html": "<div>\n<style scoped>\n    .dataframe tbody tr th:only-of-type {\n        vertical-align: middle;\n    }\n\n    .dataframe tbody tr th {\n        vertical-align: top;\n    }\n\n    .dataframe thead th {\n        text-align: right;\n    }\n</style>\n<table border=\"1\" class=\"dataframe\">\n  <thead>\n    <tr style=\"text-align: right;\">\n      <th></th>\n      <th>1</th>\n      <th>10</th>\n      <th>10 11</th>\n      <th>10 11 week</th>\n      <th>10 week</th>\n      <th>10 week flower</th>\n      <th>10 week produce</th>\n      <th>100</th>\n      <th>11</th>\n      <th>11 week</th>\n      <th>...</th>\n      <th>yield indoor</th>\n      <th>yield plant</th>\n      <th>yield potency</th>\n      <th>yield thc</th>\n      <th>yields.happy</th>\n      <th>yoda</th>\n      <th>zest</th>\n      <th>zesty</th>\n      <th>zesty lemon</th>\n      <th>zombie</th>\n    </tr>\n  </thead>\n  <tbody>\n    <tr>\n      <th>0</th>\n      <td>0.0</td>\n      <td>0.0</td>\n      <td>0.0</td>\n      <td>0.0</td>\n      <td>0.0</td>\n      <td>0.0</td>\n      <td>0.0</td>\n      <td>0.0</td>\n      <td>0.0</td>\n      <td>0.0</td>\n      <td>...</td>\n      <td>0.0</td>\n      <td>0.0</td>\n      <td>0.0</td>\n      <td>0.0</td>\n      <td>0.0</td>\n      <td>0.0</td>\n      <td>0.0</td>\n      <td>0.0</td>\n      <td>0.0</td>\n      <td>0.0</td>\n    </tr>\n    <tr>\n      <th>1</th>\n      <td>0.0</td>\n      <td>0.0</td>\n      <td>0.0</td>\n      <td>0.0</td>\n      <td>0.0</td>\n      <td>0.0</td>\n      <td>0.0</td>\n      <td>0.0</td>\n      <td>0.0</td>\n      <td>0.0</td>\n      <td>...</td>\n      <td>0.0</td>\n      <td>0.0</td>\n      <td>0.0</td>\n      <td>0.0</td>\n      <td>0.0</td>\n      <td>0.0</td>\n      <td>0.0</td>\n      <td>0.0</td>\n      <td>0.0</td>\n      <td>0.0</td>\n    </tr>\n    <tr>\n      <th>2</th>\n      <td>0.0</td>\n      <td>0.0</td>\n      <td>0.0</td>\n      <td>0.0</td>\n      <td>0.0</td>\n      <td>0.0</td>\n      <td>0.0</td>\n      <td>0.0</td>\n      <td>0.0</td>\n      <td>0.0</td>\n      <td>...</td>\n      <td>0.0</td>\n      <td>0.0</td>\n      <td>0.0</td>\n      <td>0.0</td>\n      <td>0.0</td>\n      <td>0.0</td>\n      <td>0.0</td>\n      <td>0.0</td>\n      <td>0.0</td>\n      <td>0.0</td>\n    </tr>\n    <tr>\n      <th>3</th>\n      <td>0.0</td>\n      <td>0.0</td>\n      <td>0.0</td>\n      <td>0.0</td>\n      <td>0.0</td>\n      <td>0.0</td>\n      <td>0.0</td>\n      <td>0.0</td>\n      <td>0.0</td>\n      <td>0.0</td>\n      <td>...</td>\n      <td>0.0</td>\n      <td>0.0</td>\n      <td>0.0</td>\n      <td>0.0</td>\n      <td>0.0</td>\n      <td>0.0</td>\n      <td>0.0</td>\n      <td>0.0</td>\n      <td>0.0</td>\n      <td>0.0</td>\n    </tr>\n    <tr>\n      <th>4</th>\n      <td>0.0</td>\n      <td>0.0</td>\n      <td>0.0</td>\n      <td>0.0</td>\n      <td>0.0</td>\n      <td>0.0</td>\n      <td>0.0</td>\n      <td>0.0</td>\n      <td>0.0</td>\n      <td>0.0</td>\n      <td>...</td>\n      <td>0.0</td>\n      <td>0.0</td>\n      <td>0.0</td>\n      <td>0.0</td>\n      <td>0.0</td>\n      <td>0.0</td>\n      <td>0.0</td>\n      <td>0.0</td>\n      <td>0.0</td>\n      <td>0.0</td>\n    </tr>\n    <tr>\n      <th>...</th>\n      <td>...</td>\n      <td>...</td>\n      <td>...</td>\n      <td>...</td>\n      <td>...</td>\n      <td>...</td>\n      <td>...</td>\n      <td>...</td>\n      <td>...</td>\n      <td>...</td>\n      <td>...</td>\n      <td>...</td>\n      <td>...</td>\n      <td>...</td>\n      <td>...</td>\n      <td>...</td>\n      <td>...</td>\n      <td>...</td>\n      <td>...</td>\n      <td>...</td>\n      <td>...</td>\n    </tr>\n    <tr>\n      <th>2151</th>\n      <td>0.0</td>\n      <td>0.0</td>\n      <td>0.0</td>\n      <td>0.0</td>\n      <td>0.0</td>\n      <td>0.0</td>\n      <td>0.0</td>\n      <td>0.0</td>\n      <td>0.0</td>\n      <td>0.0</td>\n      <td>...</td>\n      <td>0.0</td>\n      <td>0.0</td>\n      <td>0.0</td>\n      <td>0.0</td>\n      <td>0.0</td>\n      <td>0.0</td>\n      <td>0.0</td>\n      <td>0.0</td>\n      <td>0.0</td>\n      <td>0.0</td>\n    </tr>\n    <tr>\n      <th>2152</th>\n      <td>0.0</td>\n      <td>0.0</td>\n      <td>0.0</td>\n      <td>0.0</td>\n      <td>0.0</td>\n      <td>0.0</td>\n      <td>0.0</td>\n      <td>0.0</td>\n      <td>0.0</td>\n      <td>0.0</td>\n      <td>...</td>\n      <td>0.0</td>\n      <td>0.0</td>\n      <td>0.0</td>\n      <td>0.0</td>\n      <td>0.0</td>\n      <td>0.0</td>\n      <td>0.0</td>\n      <td>0.0</td>\n      <td>0.0</td>\n      <td>0.0</td>\n    </tr>\n    <tr>\n      <th>2153</th>\n      <td>0.0</td>\n      <td>0.0</td>\n      <td>0.0</td>\n      <td>0.0</td>\n      <td>0.0</td>\n      <td>0.0</td>\n      <td>0.0</td>\n      <td>0.0</td>\n      <td>0.0</td>\n      <td>0.0</td>\n      <td>...</td>\n      <td>0.0</td>\n      <td>0.0</td>\n      <td>0.0</td>\n      <td>0.0</td>\n      <td>0.0</td>\n      <td>0.0</td>\n      <td>0.0</td>\n      <td>0.0</td>\n      <td>0.0</td>\n      <td>0.0</td>\n    </tr>\n    <tr>\n      <th>2154</th>\n      <td>0.0</td>\n      <td>0.0</td>\n      <td>0.0</td>\n      <td>0.0</td>\n      <td>0.0</td>\n      <td>0.0</td>\n      <td>0.0</td>\n      <td>0.0</td>\n      <td>0.0</td>\n      <td>0.0</td>\n      <td>...</td>\n      <td>0.0</td>\n      <td>0.0</td>\n      <td>0.0</td>\n      <td>0.0</td>\n      <td>0.0</td>\n      <td>0.0</td>\n      <td>0.0</td>\n      <td>0.0</td>\n      <td>0.0</td>\n      <td>0.0</td>\n    </tr>\n    <tr>\n      <th>2155</th>\n      <td>0.0</td>\n      <td>0.0</td>\n      <td>0.0</td>\n      <td>0.0</td>\n      <td>0.0</td>\n      <td>0.0</td>\n      <td>0.0</td>\n      <td>0.0</td>\n      <td>0.0</td>\n      <td>0.0</td>\n      <td>...</td>\n      <td>0.0</td>\n      <td>0.0</td>\n      <td>0.0</td>\n      <td>0.0</td>\n      <td>0.0</td>\n      <td>0.0</td>\n      <td>0.0</td>\n      <td>0.0</td>\n      <td>0.0</td>\n      <td>0.0</td>\n    </tr>\n  </tbody>\n</table>\n<p>2156 rows × 5000 columns</p>\n</div>"
     },
     "metadata": {},
     "execution_count": 34
    }
   ],
   "source": [
    "rec_dtm"
   ]
  },
  {
   "cell_type": "code",
   "execution_count": 35,
   "metadata": {},
   "outputs": [],
   "source": [
    "cosine_df = pd.DataFrame(cosine_similarity(rec_dtm))"
   ]
  },
  {
   "cell_type": "code",
   "execution_count": 39,
   "metadata": {},
   "outputs": [],
   "source": [
    "recommendations = cosine_df[cosine_df[0] < 1][0].sort_values(ascending=False)[:5]"
   ]
  },
  {
   "cell_type": "code",
   "execution_count": 40,
   "metadata": {},
   "outputs": [
    {
     "output_type": "execute_result",
     "data": {
      "text/plain": "992     0.332275\n439     0.192266\n184     0.173853\n1117    0.169363\n45      0.156640\nName: 0, dtype: float64"
     },
     "metadata": {},
     "execution_count": 40
    }
   ],
   "source": [
    "recommendations"
   ]
  },
  {
   "cell_type": "code",
   "execution_count": 15,
   "metadata": {},
   "outputs": [
    {
     "output_type": "execute_result",
     "data": {
      "text/plain": "Index                                                        992\nName                                               Acapulco Gold\nType                                                      Sativa\nRating                                                      3.86\nEffects                Happy,Uplifted,Euphoric,Energetic,Relaxed\nDescription    One of the most well-known strains, Acapulco G...\nFlavors                                     Earthy,Sweet,Pungent\nNearest                                       0,961,1201,984,439\nName: 992, dtype: object"
     },
     "metadata": {},
     "execution_count": 15
    }
   ],
   "source": [
    "df.iloc[992]"
   ]
  },
  {
   "cell_type": "code",
   "execution_count": 16,
   "metadata": {},
   "outputs": [
    {
     "output_type": "execute_result",
     "data": {
      "text/plain": "Index                                                        439\nName                                                  White Gold\nType                                                      Hybrid\nRating                                                      4.32\nEffects                Relaxed,Happy,Euphoric,Talkative,Uplifted\nDescription    White Gold from Sensi Seeds is an indica-domin...\nFlavors                                  Earthy,Pungent,Tropical\nNearest                                  1413,1935,992,1723,1795\nName: 439, dtype: object"
     },
     "metadata": {},
     "execution_count": 16
    }
   ],
   "source": [
    "df.iloc[439]"
   ]
  },
  {
   "cell_type": "code",
   "execution_count": 17,
   "metadata": {},
   "outputs": [
    {
     "output_type": "execute_result",
     "data": {
      "text/plain": "Index                                                        184\nName                                         Orange Hill Special\nType                                                      Hybrid\nRating                                                      4.77\nEffects                    Happy,Relaxed,Sleepy,Euphoric,Focused\nDescription    Orange Hill Special is a select cross from the...\nFlavors                                      Orange,Citrus,Sweet\nNearest                                 1634,1512,2149,1658,1887\nName: 184, dtype: object"
     },
     "metadata": {},
     "execution_count": 17
    }
   ],
   "source": [
    "df.iloc[184]"
   ]
  },
  {
   "cell_type": "code",
   "execution_count": 18,
   "metadata": {},
   "outputs": [
    {
     "output_type": "execute_result",
     "data": {
      "text/plain": "Index                                                       1117\nName                                                  Chemdawg 4\nType                                                      Hybrid\nRating                                                      3.64\nEffects                   Relaxed,Euphoric,Happy,Hungry,Uplifted\nDescription    Part of the prominent line of Chemdawg strains...\nFlavors                                        Pine,Diesel,Lemon\nNearest                                   948,1523,897,1723,1674\nName: 1117, dtype: object"
     },
     "metadata": {},
     "execution_count": 18
    }
   ],
   "source": [
    "df.iloc[1117]"
   ]
  },
  {
   "cell_type": "code",
   "execution_count": 19,
   "metadata": {},
   "outputs": [
    {
     "output_type": "execute_result",
     "data": {
      "text/plain": "Index                                                         45\nName                                                    Ape Shit\nType                                                      Hybrid\nRating                                                         5\nEffects                  Happy,Relaxed,Uplifted,Giggly,Talkative\nDescription    Ape Shit is the genetic offspring of three qua...\nFlavors                                     Sweet,Grape,Lavender\nNearest                                     381,992,1771,49,1066\nName: 45, dtype: object"
     },
     "metadata": {},
     "execution_count": 19
    }
   ],
   "source": [
    "df.iloc[45]"
   ]
  },
  {
   "cell_type": "markdown",
   "metadata": {},
   "source": [
    "# Functions"
   ]
  },
  {
   "cell_type": "code",
   "execution_count": 70,
   "metadata": {},
   "outputs": [],
   "source": [
    "# Create cosine_similarity function\n",
    "\n",
    "import json\n",
    "\n",
    "def cosine_recommender(user_input):\n",
    "    user_dtm = pd.DataFrame(tfidf.transform(user_input).todense(), columns=tfidf.get_feature_names())\n",
    "    rec_dtm = dtm.append(user_dtm).reset_index(drop=True)\n",
    "    cosine_df = pd.DataFrame(cosine_similarity(rec_dtm))\n",
    "    longdf = len(cosine_df)-1\n",
    "    print(\"Len df -1\", longdf)\n",
    "    values1 = cosine_df[cosine_df[0]<1][len(cosine_df)-1]\n",
    "    print('values', values1)\n",
    "    recommendations = cosine_df[cosine_df[0] < 1][len(cosine_df)-1].sort_values(ascending=False)[1:6]\n",
    "    return recommendations\n",
    "\n",
    "#Does not print all 5 results? "
   ]
  },
  {
   "cell_type": "code",
   "execution_count": 71,
   "metadata": {
    "tags": []
   },
   "outputs": [
    {
     "output_type": "stream",
     "name": "stdout",
     "text": "Len df -1 2155\nvalues 1       0.000000\n2       0.015447\n3       0.000000\n4       0.000000\n5       0.000000\n          ...   \n2151    0.000000\n2152    0.000000\n2153    0.000000\n2154    0.000000\n2155    1.000000\nName: 2155, Length: 2155, dtype: float64\n"
    },
    {
     "output_type": "execute_result",
     "data": {
      "text/plain": "1978    0.747218\n861     0.498436\n2078    0.431750\n39      0.428138\n75      0.307618\nName: 2155, dtype: float64"
     },
     "metadata": {},
     "execution_count": 71
    }
   ],
   "source": [
    "cosine_recommender(user_input)"
   ]
  },
  {
   "cell_type": "code",
   "execution_count": 57,
   "metadata": {},
   "outputs": [],
   "source": [
    "user_input2 = ['energetic']"
   ]
  },
  {
   "cell_type": "code",
   "execution_count": 58,
   "metadata": {},
   "outputs": [
    {
     "output_type": "execute_result",
     "data": {
      "text/plain": "1460    0.186523\n1529    0.178320\n1182    0.175643\n1817    0.173626\n1487    0.168550\nName: 2155, dtype: float64"
     },
     "metadata": {},
     "execution_count": 58
    }
   ],
   "source": [
    "cosine_recommender(user_input2)"
   ]
  },
  {
   "cell_type": "code",
   "execution_count": null,
   "metadata": {},
   "outputs": [],
   "source": []
  },
  {
   "cell_type": "code",
   "execution_count": null,
   "metadata": {},
   "outputs": [],
   "source": []
  },
  {
   "cell_type": "code",
   "execution_count": null,
   "metadata": {},
   "outputs": [],
   "source": []
  },
  {
   "cell_type": "markdown",
   "metadata": {},
   "source": [
    "## Pickle Model"
   ]
  },
  {
   "cell_type": "code",
   "execution_count": null,
   "metadata": {},
   "outputs": [],
   "source": [
    "# Create pickles of the model and the transformer for web deployment\n",
    "\n",
    "# # Imports\n",
    "import pickle\n",
    "\n",
    "pickle.dump(tfidf, open('tfidf.pkl', 'wb'), protocol=pickle.HIGHEST_PROTOCOL)\n",
    "pickle.dump(dtm, open('dtm.pkl', 'wb'), protocol=pickle.HIGHEST_PROTOCOL)"
   ]
  },
  {
   "cell_type": "code",
   "execution_count": null,
   "metadata": {},
   "outputs": [],
   "source": [
    "user_input1 =[\"I am feeling sluggish. I am looking for an ammonia flavored strain that will have me feeling happy and energetic\"]"
   ]
  },
  {
   "cell_type": "code",
   "execution_count": null,
   "metadata": {},
   "outputs": [],
   "source": [
    "#Loading the pickled models\n",
    "tfidf_model = pickle.load(open('tfidf.pkl', 'rb'))\n",
    "dtm_model = pickle.load(open('dtm.pkl', 'rb'))"
   ]
  },
  {
   "cell_type": "code",
   "execution_count": null,
   "metadata": {},
   "outputs": [],
   "source": [
    "tfidf_model"
   ]
  },
  {
   "cell_type": "code",
   "execution_count": null,
   "metadata": {},
   "outputs": [],
   "source": [
    "dtm_model"
   ]
  },
  {
   "cell_type": "markdown",
   "metadata": {},
   "source": [
    "## Test"
   ]
  },
  {
   "cell_type": "code",
   "execution_count": null,
   "metadata": {},
   "outputs": [],
   "source": [
    "# Create cosine_similarity function\n",
    "\n",
    "import json\n",
    "\n",
    "def cosine_recommender(user_input):\n",
    "    \n",
    "    user_dtm1 = pd.DataFrame(tfidf_model.transform(user_input).todense(), columns=tfidf_model.get_feature_names())\n",
    "    rec_dtm1 = dtm_model.append(user_dtm1).reset_index(drop=True)\n",
    "    \n",
    "    cosine_df1 = pd.DataFrame(cosine_similarity(rec_dtm1))\n",
    "    \n",
    "    recommendations5 = (cosine_df1[cosine_df1[0] < 1][[len(cosine_df)-1]].sort_values(ascending=False)[:5]).reset_index()\n",
    "    \n",
    "    print(recommendations5)\n",
    "\n",
    "#Does not print all 5 results? "
   ]
  },
  {
   "cell_type": "code",
   "execution_count": null,
   "metadata": {},
   "outputs": [],
   "source": [
    "cosine_recommender(user_input1)"
   ]
  },
  {
   "cell_type": "code",
   "execution_count": null,
   "metadata": {},
   "outputs": [],
   "source": []
  }
 ],
 "metadata": {
  "kernelspec": {
   "display_name": "U4-S1-NLP (Python3)",
   "language": "python",
   "name": "u4-s1-nlp"
  },
  "language_info": {
   "codemirror_mode": {
    "name": "ipython",
    "version": 3
   },
   "file_extension": ".py",
   "mimetype": "text/x-python",
   "name": "python",
   "nbconvert_exporter": "python",
   "pygments_lexer": "ipython3",
   "version": "3.7.0-final"
  }
 },
 "nbformat": 4,
 "nbformat_minor": 4
}