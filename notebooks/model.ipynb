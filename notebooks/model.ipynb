{
 "cells": [
  {
   "cell_type": "code",
   "execution_count": 1,
   "metadata": {},
   "outputs": [],
   "source": [
    "import pandas as pd\n",
    "from sklearn.neighbors import NearestNeighbors\n",
    "from sklearn.metrics.pairwise import cosine_similarity\n",
    "from sklearn.feature_extraction.text import TfidfVectorizer\n",
    "import spacy\n",
    "import re\n",
    "import MonkeyScope"
   ]
  },
  {
   "cell_type": "code",
   "execution_count": 2,
   "metadata": {},
   "outputs": [],
   "source": [
    "nlp = spacy.load(\"en_core_web_lg\")"
   ]
  },
  {
   "cell_type": "code",
   "execution_count": 3,
   "metadata": {},
   "outputs": [],
   "source": [
    "data = pd.read_csv(\"cannabis-working-2.csv\")"
   ]
  },
  {
   "cell_type": "code",
   "execution_count": 4,
   "metadata": {},
   "outputs": [],
   "source": [
    "data['Effects'] = data['Effects'].apply(lambda s: 'Relaxed,Creative,Aroused' if s == 'Dry Mouth' else s)"
   ]
  },
  {
   "cell_type": "code",
   "execution_count": 5,
   "metadata": {},
   "outputs": [],
   "source": [
    "data = data.rename(columns={'Strain': 'Name'})"
   ]
  },
  {
   "cell_type": "code",
   "execution_count": 6,
   "metadata": {},
   "outputs": [],
   "source": [
    "data['Type'] = data['Type'].str.title()"
   ]
  },
  {
   "cell_type": "code",
   "execution_count": 7,
   "metadata": {},
   "outputs": [],
   "source": [
    "data['Flavors'] = data['Flavors'].str.replace('/', ',')"
   ]
  },
  {
   "cell_type": "code",
   "execution_count": 8,
   "metadata": {},
   "outputs": [],
   "source": [
    "def fix_string(string: str) -> str:\n",
    "    return string.replace(\n",
    "        '\\u2018', \"'\",\n",
    "    ).replace(\n",
    "        '\\u2019', \"'\",\n",
    "    ).replace(\n",
    "        '\\u201c', \"'\",\n",
    "    ).replace(\n",
    "        '\\u201d', \"'\",\n",
    "    ).replace(\n",
    "        '\\u00f1', \"n\",\n",
    "    ).replace(\n",
    "        '\\u2013', \"-\",\n",
    "    ).replace(\n",
    "        '\\u2014', \"-\",\n",
    "    ).replace(\n",
    "        '\\u014d', \"o\",\n",
    "    ).replace(\n",
    "        '\\u2026', '-',\n",
    "    ).replace(\n",
    "        '\\u0101', 'a',\n",
    "    )"
   ]
  },
  {
   "cell_type": "code",
   "execution_count": 10,
   "metadata": {},
   "outputs": [],
   "source": [
    "data['Name'] = data['Name'].apply(fix_string)\n",
    "data['Description'] = data['Description'].apply(fix_string)"
   ]
  },
  {
   "cell_type": "code",
   "execution_count": 11,
   "metadata": {},
   "outputs": [],
   "source": [
    "def tokenize(document):\n",
    "    doc = nlp(document)\n",
    "    return [\n",
    "        token.lemma_.strip() for token in doc \n",
    "        if not token.is_stop and not token.is_punct\n",
    "    ]"
   ]
  },
  {
   "cell_type": "code",
   "execution_count": 12,
   "metadata": {},
   "outputs": [],
   "source": [
    "tfidf = TfidfVectorizer(\n",
    "    stop_words='english',\n",
    "    tokenizer=tokenize,\n",
    "    ngram_range=(1, 3),\n",
    "    max_df=.97,\n",
    "    min_df=3,\n",
    ")\n",
    "dtm = tfidf.fit_transform(data['Description'] + data['Effects'] + data['Flavors'])\n",
    "dtm = pd.DataFrame(dtm.todense(), columns=tfidf.get_feature_names())"
   ]
  },
  {
   "cell_type": "code",
   "execution_count": 13,
   "metadata": {},
   "outputs": [
    {
     "data": {
      "text/html": [
       "<div>\n",
       "<style scoped>\n",
       "    .dataframe tbody tr th:only-of-type {\n",
       "        vertical-align: middle;\n",
       "    }\n",
       "\n",
       "    .dataframe tbody tr th {\n",
       "        vertical-align: top;\n",
       "    }\n",
       "\n",
       "    .dataframe thead th {\n",
       "        text-align: right;\n",
       "    }\n",
       "</style>\n",
       "<table border=\"1\" class=\"dataframe\">\n",
       "  <thead>\n",
       "    <tr style=\"text-align: right;\">\n",
       "      <th></th>\n",
       "      <th>09</th>\n",
       "      <th>1</th>\n",
       "      <th>1 afghani</th>\n",
       "      <th>1 genetic</th>\n",
       "      <th>1 hybrid</th>\n",
       "      <th>1 know</th>\n",
       "      <th>1 northern</th>\n",
       "      <th>1 northern light</th>\n",
       "      <th>1 strain</th>\n",
       "      <th>10</th>\n",
       "      <th>...</th>\n",
       "      <th>zealand</th>\n",
       "      <th>zest</th>\n",
       "      <th>zestful</th>\n",
       "      <th>zesty</th>\n",
       "      <th>zesty lemon</th>\n",
       "      <th>zesty lemon aroma</th>\n",
       "      <th>zion</th>\n",
       "      <th>zombie</th>\n",
       "      <th>zombie og</th>\n",
       "      <th>zone</th>\n",
       "    </tr>\n",
       "  </thead>\n",
       "  <tbody>\n",
       "    <tr>\n",
       "      <th>0</th>\n",
       "      <td>0.0</td>\n",
       "      <td>0.0</td>\n",
       "      <td>0.0</td>\n",
       "      <td>0.0</td>\n",
       "      <td>0.0</td>\n",
       "      <td>0.0</td>\n",
       "      <td>0.0</td>\n",
       "      <td>0.0</td>\n",
       "      <td>0.0</td>\n",
       "      <td>0.0</td>\n",
       "      <td>...</td>\n",
       "      <td>0.0</td>\n",
       "      <td>0.0</td>\n",
       "      <td>0.0</td>\n",
       "      <td>0.0</td>\n",
       "      <td>0.0</td>\n",
       "      <td>0.0</td>\n",
       "      <td>0.0</td>\n",
       "      <td>0.0</td>\n",
       "      <td>0.0</td>\n",
       "      <td>0.0</td>\n",
       "    </tr>\n",
       "    <tr>\n",
       "      <th>1</th>\n",
       "      <td>0.0</td>\n",
       "      <td>0.0</td>\n",
       "      <td>0.0</td>\n",
       "      <td>0.0</td>\n",
       "      <td>0.0</td>\n",
       "      <td>0.0</td>\n",
       "      <td>0.0</td>\n",
       "      <td>0.0</td>\n",
       "      <td>0.0</td>\n",
       "      <td>0.0</td>\n",
       "      <td>...</td>\n",
       "      <td>0.0</td>\n",
       "      <td>0.0</td>\n",
       "      <td>0.0</td>\n",
       "      <td>0.0</td>\n",
       "      <td>0.0</td>\n",
       "      <td>0.0</td>\n",
       "      <td>0.0</td>\n",
       "      <td>0.0</td>\n",
       "      <td>0.0</td>\n",
       "      <td>0.0</td>\n",
       "    </tr>\n",
       "    <tr>\n",
       "      <th>2</th>\n",
       "      <td>0.0</td>\n",
       "      <td>0.0</td>\n",
       "      <td>0.0</td>\n",
       "      <td>0.0</td>\n",
       "      <td>0.0</td>\n",
       "      <td>0.0</td>\n",
       "      <td>0.0</td>\n",
       "      <td>0.0</td>\n",
       "      <td>0.0</td>\n",
       "      <td>0.0</td>\n",
       "      <td>...</td>\n",
       "      <td>0.0</td>\n",
       "      <td>0.0</td>\n",
       "      <td>0.0</td>\n",
       "      <td>0.0</td>\n",
       "      <td>0.0</td>\n",
       "      <td>0.0</td>\n",
       "      <td>0.0</td>\n",
       "      <td>0.0</td>\n",
       "      <td>0.0</td>\n",
       "      <td>0.0</td>\n",
       "    </tr>\n",
       "    <tr>\n",
       "      <th>3</th>\n",
       "      <td>0.0</td>\n",
       "      <td>0.0</td>\n",
       "      <td>0.0</td>\n",
       "      <td>0.0</td>\n",
       "      <td>0.0</td>\n",
       "      <td>0.0</td>\n",
       "      <td>0.0</td>\n",
       "      <td>0.0</td>\n",
       "      <td>0.0</td>\n",
       "      <td>0.0</td>\n",
       "      <td>...</td>\n",
       "      <td>0.0</td>\n",
       "      <td>0.0</td>\n",
       "      <td>0.0</td>\n",
       "      <td>0.0</td>\n",
       "      <td>0.0</td>\n",
       "      <td>0.0</td>\n",
       "      <td>0.0</td>\n",
       "      <td>0.0</td>\n",
       "      <td>0.0</td>\n",
       "      <td>0.0</td>\n",
       "    </tr>\n",
       "    <tr>\n",
       "      <th>4</th>\n",
       "      <td>0.0</td>\n",
       "      <td>0.0</td>\n",
       "      <td>0.0</td>\n",
       "      <td>0.0</td>\n",
       "      <td>0.0</td>\n",
       "      <td>0.0</td>\n",
       "      <td>0.0</td>\n",
       "      <td>0.0</td>\n",
       "      <td>0.0</td>\n",
       "      <td>0.0</td>\n",
       "      <td>...</td>\n",
       "      <td>0.0</td>\n",
       "      <td>0.0</td>\n",
       "      <td>0.0</td>\n",
       "      <td>0.0</td>\n",
       "      <td>0.0</td>\n",
       "      <td>0.0</td>\n",
       "      <td>0.0</td>\n",
       "      <td>0.0</td>\n",
       "      <td>0.0</td>\n",
       "      <td>0.0</td>\n",
       "    </tr>\n",
       "  </tbody>\n",
       "</table>\n",
       "<p>5 rows × 11007 columns</p>\n",
       "</div>"
      ],
      "text/plain": [
       "    09    1  1 afghani  1 genetic  1 hybrid  1 know  1 northern  \\\n",
       "0  0.0  0.0        0.0        0.0       0.0     0.0         0.0   \n",
       "1  0.0  0.0        0.0        0.0       0.0     0.0         0.0   \n",
       "2  0.0  0.0        0.0        0.0       0.0     0.0         0.0   \n",
       "3  0.0  0.0        0.0        0.0       0.0     0.0         0.0   \n",
       "4  0.0  0.0        0.0        0.0       0.0     0.0         0.0   \n",
       "\n",
       "   1 northern light  1 strain   10  ...  zealand  zest  zestful  zesty  \\\n",
       "0               0.0       0.0  0.0  ...      0.0   0.0      0.0    0.0   \n",
       "1               0.0       0.0  0.0  ...      0.0   0.0      0.0    0.0   \n",
       "2               0.0       0.0  0.0  ...      0.0   0.0      0.0    0.0   \n",
       "3               0.0       0.0  0.0  ...      0.0   0.0      0.0    0.0   \n",
       "4               0.0       0.0  0.0  ...      0.0   0.0      0.0    0.0   \n",
       "\n",
       "   zesty lemon  zesty lemon aroma  zion  zombie  zombie og  zone  \n",
       "0          0.0                0.0   0.0     0.0        0.0   0.0  \n",
       "1          0.0                0.0   0.0     0.0        0.0   0.0  \n",
       "2          0.0                0.0   0.0     0.0        0.0   0.0  \n",
       "3          0.0                0.0   0.0     0.0        0.0   0.0  \n",
       "4          0.0                0.0   0.0     0.0        0.0   0.0  \n",
       "\n",
       "[5 rows x 11007 columns]"
      ]
     },
     "execution_count": 13,
     "metadata": {},
     "output_type": "execute_result"
    }
   ],
   "source": [
    "dtm.head()"
   ]
  },
  {
   "cell_type": "code",
   "execution_count": 14,
   "metadata": {},
   "outputs": [
    {
     "data": {
      "text/plain": [
       "NearestNeighbors(algorithm='kd_tree', leaf_size=30, metric='minkowski',\n",
       "                 metric_params=None, n_jobs=8, n_neighbors=6, p=2, radius=1.0)"
      ]
     },
     "execution_count": 14,
     "metadata": {},
     "output_type": "execute_result"
    }
   ],
   "source": [
    "nn = NearestNeighbors(n_neighbors=6, algorithm='kd_tree', n_jobs=8)\n",
    "nn.fit(dtm)"
   ]
  },
  {
   "cell_type": "code",
   "execution_count": 15,
   "metadata": {},
   "outputs": [],
   "source": [
    "def nearest(idx):\n",
    "    return ','.join(map(str, nn.kneighbors([dtm.iloc[idx]])[1][0][1:].tolist()))"
   ]
  },
  {
   "cell_type": "code",
   "execution_count": 16,
   "metadata": {},
   "outputs": [
    {
     "data": {
      "text/plain": [
       "'896,803,705,730,1338'"
      ]
     },
     "execution_count": 16,
     "metadata": {},
     "output_type": "execute_result"
    }
   ],
   "source": [
    "nearest(440)"
   ]
  },
  {
   "cell_type": "code",
   "execution_count": 17,
   "metadata": {},
   "outputs": [],
   "source": [
    "data['Nearest'] = data['Index'].apply(nearest)"
   ]
  },
  {
   "cell_type": "code",
   "execution_count": 18,
   "metadata": {},
   "outputs": [
    {
     "data": {
      "text/html": [
       "<div>\n",
       "<style scoped>\n",
       "    .dataframe tbody tr th:only-of-type {\n",
       "        vertical-align: middle;\n",
       "    }\n",
       "\n",
       "    .dataframe tbody tr th {\n",
       "        vertical-align: top;\n",
       "    }\n",
       "\n",
       "    .dataframe thead th {\n",
       "        text-align: right;\n",
       "    }\n",
       "</style>\n",
       "<table border=\"1\" class=\"dataframe\">\n",
       "  <thead>\n",
       "    <tr style=\"text-align: right;\">\n",
       "      <th></th>\n",
       "      <th>Index</th>\n",
       "      <th>Name</th>\n",
       "      <th>Type</th>\n",
       "      <th>Rating</th>\n",
       "      <th>Effects</th>\n",
       "      <th>Description</th>\n",
       "      <th>Flavors</th>\n",
       "      <th>Nearest</th>\n",
       "    </tr>\n",
       "  </thead>\n",
       "  <tbody>\n",
       "    <tr>\n",
       "      <th>0</th>\n",
       "      <td>0</td>\n",
       "      <td>Kelly Hill Gold</td>\n",
       "      <td>Indica</td>\n",
       "      <td>5.0</td>\n",
       "      <td>Happy,Energetic,Euphoric,Talkative,Aroused</td>\n",
       "      <td>Cultivated by Joseph Arthur Botanicals in Colo...</td>\n",
       "      <td>Pepper,Earthy,Coffee</td>\n",
       "      <td>992,897,439,184,1877</td>\n",
       "    </tr>\n",
       "    <tr>\n",
       "      <th>1</th>\n",
       "      <td>1</td>\n",
       "      <td>Spyder Mon</td>\n",
       "      <td>Hybrid</td>\n",
       "      <td>5.0</td>\n",
       "      <td>Uplifted,Creative,Focused,Happy,Relaxed</td>\n",
       "      <td>Spyder Mon is an uplifting CBD strain with a g...</td>\n",
       "      <td>Citrus,Earthy,Sweet</td>\n",
       "      <td>218,157,1627,223,742</td>\n",
       "    </tr>\n",
       "    <tr>\n",
       "      <th>2</th>\n",
       "      <td>2</td>\n",
       "      <td>Mochi</td>\n",
       "      <td>Hybrid</td>\n",
       "      <td>5.0</td>\n",
       "      <td>Sleepy,Happy,Hungry,Relaxed,Tingly</td>\n",
       "      <td>Mochi by Sherbinski is another strain that lea...</td>\n",
       "      <td>Pungent,Minty,Flowery</td>\n",
       "      <td>614,457,208,705,130</td>\n",
       "    </tr>\n",
       "    <tr>\n",
       "      <th>3</th>\n",
       "      <td>3</td>\n",
       "      <td>Molokai Purpz</td>\n",
       "      <td>Indica</td>\n",
       "      <td>5.0</td>\n",
       "      <td>Aroused,Creative,Euphoric,Relaxed,Sleepy</td>\n",
       "      <td>Moloka'i Purpz is a luscious Hawaiian landrace...</td>\n",
       "      <td>Berry,Grape,Sweet</td>\n",
       "      <td>1478,562,1063,50,390</td>\n",
       "    </tr>\n",
       "    <tr>\n",
       "      <th>4</th>\n",
       "      <td>4</td>\n",
       "      <td>Monolith</td>\n",
       "      <td>Indica</td>\n",
       "      <td>5.0</td>\n",
       "      <td>Relaxed,Sleepy,Tingly,Euphoric,Focused</td>\n",
       "      <td>Monolith is an indica-dominant strain with Afg...</td>\n",
       "      <td>Pungent,Earthy,Pine</td>\n",
       "      <td>1397,862,1094,214,141</td>\n",
       "    </tr>\n",
       "  </tbody>\n",
       "</table>\n",
       "</div>"
      ],
      "text/plain": [
       "   Index             Name    Type  Rating  \\\n",
       "0      0  Kelly Hill Gold  Indica     5.0   \n",
       "1      1       Spyder Mon  Hybrid     5.0   \n",
       "2      2            Mochi  Hybrid     5.0   \n",
       "3      3    Molokai Purpz  Indica     5.0   \n",
       "4      4         Monolith  Indica     5.0   \n",
       "\n",
       "                                      Effects  \\\n",
       "0  Happy,Energetic,Euphoric,Talkative,Aroused   \n",
       "1     Uplifted,Creative,Focused,Happy,Relaxed   \n",
       "2          Sleepy,Happy,Hungry,Relaxed,Tingly   \n",
       "3    Aroused,Creative,Euphoric,Relaxed,Sleepy   \n",
       "4      Relaxed,Sleepy,Tingly,Euphoric,Focused   \n",
       "\n",
       "                                         Description                Flavors  \\\n",
       "0  Cultivated by Joseph Arthur Botanicals in Colo...   Pepper,Earthy,Coffee   \n",
       "1  Spyder Mon is an uplifting CBD strain with a g...    Citrus,Earthy,Sweet   \n",
       "2  Mochi by Sherbinski is another strain that lea...  Pungent,Minty,Flowery   \n",
       "3  Moloka'i Purpz is a luscious Hawaiian landrace...      Berry,Grape,Sweet   \n",
       "4  Monolith is an indica-dominant strain with Afg...    Pungent,Earthy,Pine   \n",
       "\n",
       "                 Nearest  \n",
       "0   992,897,439,184,1877  \n",
       "1   218,157,1627,223,742  \n",
       "2    614,457,208,705,130  \n",
       "3   1478,562,1063,50,390  \n",
       "4  1397,862,1094,214,141  "
      ]
     },
     "execution_count": 18,
     "metadata": {},
     "output_type": "execute_result"
    }
   ],
   "source": [
    "data.head()"
   ]
  },
  {
   "cell_type": "code",
   "execution_count": 19,
   "metadata": {},
   "outputs": [
    {
     "data": {
      "text/html": [
       "<div>\n",
       "<style scoped>\n",
       "    .dataframe tbody tr th:only-of-type {\n",
       "        vertical-align: middle;\n",
       "    }\n",
       "\n",
       "    .dataframe tbody tr th {\n",
       "        vertical-align: top;\n",
       "    }\n",
       "\n",
       "    .dataframe thead th {\n",
       "        text-align: right;\n",
       "    }\n",
       "</style>\n",
       "<table border=\"1\" class=\"dataframe\">\n",
       "  <thead>\n",
       "    <tr style=\"text-align: right;\">\n",
       "      <th></th>\n",
       "      <th>Index</th>\n",
       "      <th>Name</th>\n",
       "      <th>Type</th>\n",
       "      <th>Rating</th>\n",
       "      <th>Effects</th>\n",
       "      <th>Description</th>\n",
       "      <th>Flavors</th>\n",
       "      <th>Nearest</th>\n",
       "    </tr>\n",
       "  </thead>\n",
       "  <tbody>\n",
       "    <tr>\n",
       "      <th>2150</th>\n",
       "      <td>2150</td>\n",
       "      <td>True X</td>\n",
       "      <td>Indica</td>\n",
       "      <td>0.45</td>\n",
       "      <td>Uplifted,Focused,Sleepy,Relaxed,Tingly</td>\n",
       "      <td>True X by Royal Choice Farms is an indica-domi...</td>\n",
       "      <td>Earthy,Woody,Pine</td>\n",
       "      <td>1351,1785,271,968,175</td>\n",
       "    </tr>\n",
       "    <tr>\n",
       "      <th>2151</th>\n",
       "      <td>2151</td>\n",
       "      <td>White Strawberry</td>\n",
       "      <td>Hybrid</td>\n",
       "      <td>0.45</td>\n",
       "      <td>Happy</td>\n",
       "      <td>White Strawberry is the flavorful cross of The...</td>\n",
       "      <td>Citrus,Sweet</td>\n",
       "      <td>652,1477,8,1975,843</td>\n",
       "    </tr>\n",
       "    <tr>\n",
       "      <th>2152</th>\n",
       "      <td>2152</td>\n",
       "      <td>Queens Panties</td>\n",
       "      <td>Hybrid</td>\n",
       "      <td>0.45</td>\n",
       "      <td>Talkative,Happy,Energetic,Tingly,Uplifted</td>\n",
       "      <td>Queen's Panties is a royally stimulating sativ...</td>\n",
       "      <td>Sweet,Lemon,Citrus</td>\n",
       "      <td>238,1478,240,1605,498</td>\n",
       "    </tr>\n",
       "    <tr>\n",
       "      <th>2153</th>\n",
       "      <td>2153</td>\n",
       "      <td>Avi</td>\n",
       "      <td>Hybrid</td>\n",
       "      <td>0.45</td>\n",
       "      <td>Relaxed,Focused,Uplifted,Creative,Happy</td>\n",
       "      <td>Avi is a high-CBD strain grown by Canadian LP ...</td>\n",
       "      <td>Earthy,Pungent</td>\n",
       "      <td>535,255,630,299,1207</td>\n",
       "    </tr>\n",
       "    <tr>\n",
       "      <th>2154</th>\n",
       "      <td>2154</td>\n",
       "      <td>Blue Bayou</td>\n",
       "      <td>Sativa</td>\n",
       "      <td>0.00</td>\n",
       "      <td>Giggly,Uplifted,Creative,Happy,Sleepy</td>\n",
       "      <td>Blue Bayou can only be described as a comprehe...</td>\n",
       "      <td>Sweet</td>\n",
       "      <td>1350,2125,1184,857,881</td>\n",
       "    </tr>\n",
       "  </tbody>\n",
       "</table>\n",
       "</div>"
      ],
      "text/plain": [
       "      Index              Name    Type  Rating  \\\n",
       "2150   2150            True X  Indica    0.45   \n",
       "2151   2151  White Strawberry  Hybrid    0.45   \n",
       "2152   2152    Queens Panties  Hybrid    0.45   \n",
       "2153   2153               Avi  Hybrid    0.45   \n",
       "2154   2154        Blue Bayou  Sativa    0.00   \n",
       "\n",
       "                                        Effects  \\\n",
       "2150     Uplifted,Focused,Sleepy,Relaxed,Tingly   \n",
       "2151                                      Happy   \n",
       "2152  Talkative,Happy,Energetic,Tingly,Uplifted   \n",
       "2153    Relaxed,Focused,Uplifted,Creative,Happy   \n",
       "2154      Giggly,Uplifted,Creative,Happy,Sleepy   \n",
       "\n",
       "                                            Description             Flavors  \\\n",
       "2150  True X by Royal Choice Farms is an indica-domi...   Earthy,Woody,Pine   \n",
       "2151  White Strawberry is the flavorful cross of The...        Citrus,Sweet   \n",
       "2152  Queen's Panties is a royally stimulating sativ...  Sweet,Lemon,Citrus   \n",
       "2153  Avi is a high-CBD strain grown by Canadian LP ...      Earthy,Pungent   \n",
       "2154  Blue Bayou can only be described as a comprehe...               Sweet   \n",
       "\n",
       "                     Nearest  \n",
       "2150   1351,1785,271,968,175  \n",
       "2151     652,1477,8,1975,843  \n",
       "2152   238,1478,240,1605,498  \n",
       "2153    535,255,630,299,1207  \n",
       "2154  1350,2125,1184,857,881  "
      ]
     },
     "execution_count": 19,
     "metadata": {},
     "output_type": "execute_result"
    }
   ],
   "source": [
    "data.tail()"
   ]
  },
  {
   "cell_type": "code",
   "execution_count": 20,
   "metadata": {},
   "outputs": [
    {
     "data": {
      "text/html": [
       "<div>\n",
       "<style scoped>\n",
       "    .dataframe tbody tr th:only-of-type {\n",
       "        vertical-align: middle;\n",
       "    }\n",
       "\n",
       "    .dataframe tbody tr th {\n",
       "        vertical-align: top;\n",
       "    }\n",
       "\n",
       "    .dataframe thead th {\n",
       "        text-align: right;\n",
       "    }\n",
       "</style>\n",
       "<table border=\"1\" class=\"dataframe\">\n",
       "  <thead>\n",
       "    <tr style=\"text-align: right;\">\n",
       "      <th></th>\n",
       "      <th>Index</th>\n",
       "      <th>Name</th>\n",
       "      <th>Type</th>\n",
       "      <th>Rating</th>\n",
       "      <th>Effects</th>\n",
       "      <th>Description</th>\n",
       "      <th>Flavors</th>\n",
       "      <th>Nearest</th>\n",
       "    </tr>\n",
       "  </thead>\n",
       "  <tbody>\n",
       "    <tr>\n",
       "      <th>896</th>\n",
       "      <td>896</td>\n",
       "      <td>Pink Cookies</td>\n",
       "      <td>Hybrid</td>\n",
       "      <td>3.86</td>\n",
       "      <td>Relaxed,Aroused,Creative,Giggly,Happy</td>\n",
       "      <td>Pink Cookies, also known as Wedding Cake, is t...</td>\n",
       "      <td>Sweet,Earthy,Pungent</td>\n",
       "      <td>440,803,705,96,730</td>\n",
       "    </tr>\n",
       "  </tbody>\n",
       "</table>\n",
       "</div>"
      ],
      "text/plain": [
       "     Index          Name    Type  Rating  \\\n",
       "896    896  Pink Cookies  Hybrid    3.86   \n",
       "\n",
       "                                   Effects  \\\n",
       "896  Relaxed,Aroused,Creative,Giggly,Happy   \n",
       "\n",
       "                                           Description               Flavors  \\\n",
       "896  Pink Cookies, also known as Wedding Cake, is t...  Sweet,Earthy,Pungent   \n",
       "\n",
       "                Nearest  \n",
       "896  440,803,705,96,730  "
      ]
     },
     "execution_count": 20,
     "metadata": {},
     "output_type": "execute_result"
    }
   ],
   "source": [
    "data[data['Name'] == 'Pink Cookies']"
   ]
  },
  {
   "cell_type": "code",
   "execution_count": 21,
   "metadata": {},
   "outputs": [
    {
     "data": {
      "text/plain": [
       "NearestNeighbors(algorithm='kd_tree', leaf_size=30, metric='minkowski',\n",
       "                 metric_params=None, n_jobs=8, n_neighbors=1, p=2, radius=1.0)"
      ]
     },
     "execution_count": 21,
     "metadata": {},
     "output_type": "execute_result"
    }
   ],
   "source": [
    "one_nn = NearestNeighbors(n_neighbors=1, algorithm='kd_tree', n_jobs=8)\n",
    "one_nn.fit(dtm)"
   ]
  },
  {
   "cell_type": "code",
   "execution_count": 22,
   "metadata": {},
   "outputs": [],
   "source": [
    "def recommender(user_input):\n",
    "    recommendations = one_nn.kneighbors(tfidf.transform([user_input]).todense())[1]\n",
    "    return dict(data.loc[recommendations[0][0]])"
   ]
  },
  {
   "cell_type": "code",
   "execution_count": 23,
   "metadata": {},
   "outputs": [],
   "source": [
    "user_input = 'I am suffering from headaches. Looking for a sweet flavor and being uplifted and energetic.'"
   ]
  },
  {
   "cell_type": "code",
   "execution_count": 24,
   "metadata": {},
   "outputs": [
    {
     "data": {
      "text/plain": [
       "{'Index': 1354,\n",
       " 'Name': 'Lemon Jack',\n",
       " 'Type': 'Sativa',\n",
       " 'Rating': 3.64,\n",
       " 'Effects': 'Focused,Energetic,Happy,Uplifted,Creative',\n",
       " 'Description': \"While Lemon Jack has yet to earn the reputation of its father, Jack Herer, this sativa deserves some respect. A potent strain featuring a distinct, chemical-like lemon smell, Lemon Jack has strong psychoactive effects. Focused and energizing, this strain's effects draw from both its Jack Herer and Lemon Kush heritage. Like a strong cup of coffee, Lemon Jack is a daytime strain. Patients who suffer from headaches and fatigue tend to find relief with this strain, though it may not be the best choice for those who suffer from anxiety.\",\n",
       " 'Flavors': 'Lemon,Citrus,Sweet',\n",
       " 'Nearest': '1895,425,824,2122,1707'}"
      ]
     },
     "execution_count": 24,
     "metadata": {},
     "output_type": "execute_result"
    }
   ],
   "source": [
    "recommender(user_input)"
   ]
  },
  {
   "cell_type": "code",
   "execution_count": 25,
   "metadata": {},
   "outputs": [],
   "source": [
    "data.to_csv(\"cannabis-5.csv\", index=None)"
   ]
  },
  {
   "cell_type": "code",
   "execution_count": null,
   "metadata": {},
   "outputs": [],
   "source": []
  }
 ],
 "metadata": {
  "kernelspec": {
   "display_name": "Python 3",
   "language": "python",
   "name": "python3"
  },
  "language_info": {
   "codemirror_mode": {
    "name": "ipython",
    "version": 3
   },
   "file_extension": ".py",
   "mimetype": "text/x-python",
   "name": "python",
   "nbconvert_exporter": "python",
   "pygments_lexer": "ipython3",
   "version": "3.8.5"
  }
 },
 "nbformat": 4,
 "nbformat_minor": 4
}
